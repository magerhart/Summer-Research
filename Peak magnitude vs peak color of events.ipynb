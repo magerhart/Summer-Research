{
 "cells": [
  {
   "cell_type": "code",
   "execution_count": 1,
   "id": "334fd855",
   "metadata": {},
   "outputs": [],
   "source": [
    "import pandas as pd\n",
    "import matplotlib.pyplot as plt\n",
    "import numpy as np"
   ]
  },
  {
   "cell_type": "code",
   "execution_count": 2,
   "id": "2b9599e9",
   "metadata": {},
   "outputs": [
    {
     "data": {
      "text/html": [
       "<div>\n",
       "<style scoped>\n",
       "    .dataframe tbody tr th:only-of-type {\n",
       "        vertical-align: middle;\n",
       "    }\n",
       "\n",
       "    .dataframe tbody tr th {\n",
       "        vertical-align: top;\n",
       "    }\n",
       "\n",
       "    .dataframe thead th {\n",
       "        text-align: right;\n",
       "    }\n",
       "</style>\n",
       "<table border=\"1\" class=\"dataframe\">\n",
       "  <thead>\n",
       "    <tr style=\"text-align: right;\">\n",
       "      <th></th>\n",
       "      <th>tid</th>\n",
       "      <th>mjd</th>\n",
       "      <th>candid</th>\n",
       "      <th>fid</th>\n",
       "      <th>pid</th>\n",
       "      <th>diffmaglim</th>\n",
       "      <th>isdiffpos</th>\n",
       "      <th>nid</th>\n",
       "      <th>distnr</th>\n",
       "      <th>magpsf</th>\n",
       "      <th>...</th>\n",
       "      <th>magapbig</th>\n",
       "      <th>sigmagapbig</th>\n",
       "      <th>rfid</th>\n",
       "      <th>has_stamp</th>\n",
       "      <th>corrected</th>\n",
       "      <th>dubious</th>\n",
       "      <th>candid_alert</th>\n",
       "      <th>step_id_corr</th>\n",
       "      <th>phase</th>\n",
       "      <th>parent_candid</th>\n",
       "    </tr>\n",
       "  </thead>\n",
       "  <tbody>\n",
       "    <tr>\n",
       "      <th>0</th>\n",
       "      <td>ztf</td>\n",
       "      <td>58375.372141</td>\n",
       "      <td>621372140815015004</td>\n",
       "      <td>2</td>\n",
       "      <td>621372140815</td>\n",
       "      <td>20.640965</td>\n",
       "      <td>1</td>\n",
       "      <td>621</td>\n",
       "      <td>0.640157</td>\n",
       "      <td>20.053963</td>\n",
       "      <td>...</td>\n",
       "      <td>20.0331</td>\n",
       "      <td>0.3044</td>\n",
       "      <td>554120208.0</td>\n",
       "      <td>False</td>\n",
       "      <td>True</td>\n",
       "      <td>False</td>\n",
       "      <td>NaN</td>\n",
       "      <td>bulk_1.0.0</td>\n",
       "      <td>0</td>\n",
       "      <td>621433620815015000</td>\n",
       "    </tr>\n",
       "    <tr>\n",
       "      <th>1</th>\n",
       "      <td>ztf</td>\n",
       "      <td>58375.433623</td>\n",
       "      <td>621433620815015003</td>\n",
       "      <td>1</td>\n",
       "      <td>621433620815</td>\n",
       "      <td>20.892366</td>\n",
       "      <td>1</td>\n",
       "      <td>621</td>\n",
       "      <td>0.271876</td>\n",
       "      <td>19.710915</td>\n",
       "      <td>...</td>\n",
       "      <td>19.7264</td>\n",
       "      <td>0.1674</td>\n",
       "      <td>554120108.0</td>\n",
       "      <td>False</td>\n",
       "      <td>True</td>\n",
       "      <td>False</td>\n",
       "      <td>NaN</td>\n",
       "      <td>bulk_1.0.0</td>\n",
       "      <td>0</td>\n",
       "      <td>624452850815015000</td>\n",
       "    </tr>\n",
       "    <tr>\n",
       "      <th>2</th>\n",
       "      <td>ztf</td>\n",
       "      <td>58378.402269</td>\n",
       "      <td>624402260815015003</td>\n",
       "      <td>2</td>\n",
       "      <td>624402260815</td>\n",
       "      <td>20.675400</td>\n",
       "      <td>1</td>\n",
       "      <td>624</td>\n",
       "      <td>0.526670</td>\n",
       "      <td>20.573600</td>\n",
       "      <td>...</td>\n",
       "      <td>20.2916</td>\n",
       "      <td>0.3757</td>\n",
       "      <td>NaN</td>\n",
       "      <td>False</td>\n",
       "      <td>True</td>\n",
       "      <td>False</td>\n",
       "      <td>NaN</td>\n",
       "      <td>bulk_1.0.0</td>\n",
       "      <td>0</td>\n",
       "      <td>624452850815015000</td>\n",
       "    </tr>\n",
       "    <tr>\n",
       "      <th>3</th>\n",
       "      <td>ztf</td>\n",
       "      <td>58378.452859</td>\n",
       "      <td>624452850815015004</td>\n",
       "      <td>1</td>\n",
       "      <td>624452850815</td>\n",
       "      <td>20.796270</td>\n",
       "      <td>1</td>\n",
       "      <td>624</td>\n",
       "      <td>0.141980</td>\n",
       "      <td>20.424759</td>\n",
       "      <td>...</td>\n",
       "      <td>20.2442</td>\n",
       "      <td>0.2730</td>\n",
       "      <td>554120108.0</td>\n",
       "      <td>True</td>\n",
       "      <td>True</td>\n",
       "      <td>False</td>\n",
       "      <td>NaN</td>\n",
       "      <td>bulk_1.0.0</td>\n",
       "      <td>0</td>\n",
       "      <td>0</td>\n",
       "    </tr>\n",
       "  </tbody>\n",
       "</table>\n",
       "<p>4 rows × 34 columns</p>\n",
       "</div>"
      ],
      "text/plain": [
       "   tid           mjd              candid  fid           pid  diffmaglim  \\\n",
       "0  ztf  58375.372141  621372140815015004    2  621372140815   20.640965   \n",
       "1  ztf  58375.433623  621433620815015003    1  621433620815   20.892366   \n",
       "2  ztf  58378.402269  624402260815015003    2  624402260815   20.675400   \n",
       "3  ztf  58378.452859  624452850815015004    1  624452850815   20.796270   \n",
       "\n",
       "   isdiffpos  nid    distnr     magpsf  ...  magapbig  sigmagapbig  \\\n",
       "0          1  621  0.640157  20.053963  ...   20.0331       0.3044   \n",
       "1          1  621  0.271876  19.710915  ...   19.7264       0.1674   \n",
       "2          1  624  0.526670  20.573600  ...   20.2916       0.3757   \n",
       "3          1  624  0.141980  20.424759  ...   20.2442       0.2730   \n",
       "\n",
       "          rfid  has_stamp  corrected  dubious  candid_alert  step_id_corr  \\\n",
       "0  554120208.0      False       True    False           NaN    bulk_1.0.0   \n",
       "1  554120108.0      False       True    False           NaN    bulk_1.0.0   \n",
       "2          NaN      False       True    False           NaN    bulk_1.0.0   \n",
       "3  554120108.0       True       True    False           NaN    bulk_1.0.0   \n",
       "\n",
       "   phase       parent_candid  \n",
       "0      0  621433620815015000  \n",
       "1      0  624452850815015000  \n",
       "2      0  624452850815015000  \n",
       "3      0                   0  \n",
       "\n",
       "[4 rows x 34 columns]"
      ]
     },
     "execution_count": 2,
     "metadata": {},
     "output_type": "execute_result"
    }
   ],
   "source": [
    "ET_1 = pd.read_csv(\"C:\\\\Users\\\\marya\\\\Downloads\\\\ZTF18abvkwla_20220606\\\\detections_ZTF18abvkwla.csv\")\n",
    "ET_1"
   ]
  },
  {
   "cell_type": "code",
   "execution_count": 3,
   "id": "2d961b58",
   "metadata": {
    "scrolled": true
   },
   "outputs": [],
   "source": [
    "def find_err(event):\n",
    "    event_red = event[event['fid']==1]\n",
    "    event_green = event[event['fid']==2]\n",
    "    red_peak_index = event_red['magpsf'].idxmin()\n",
    "    green_peak_index = event_green['magpsf'].idxmin()\n",
    "    return event_red['sigmapsf'][red_peak_index], event_green['sigmapsf'][green_peak_index]\n"
   ]
  },
  {
   "cell_type": "code",
   "execution_count": 4,
   "id": "a8882d64",
   "metadata": {},
   "outputs": [
    {
     "name": "stdout",
     "output_type": "stream",
     "text": [
      "0.11397287\n",
      "0.13077879\n"
     ]
    }
   ],
   "source": [
    "ET_1 = pd.read_csv(\"C:\\\\Users\\\\marya\\\\Downloads\\\\ZTF18abvkwla_20220606\\\\detections_ZTF18abvkwla.csv\")\n",
    "red_err_1, green_err_1 = find_err(ET_1)\n",
    "print(red_err_1)\n",
    "print(green_err_1)"
   ]
  },
  {
   "cell_type": "code",
   "execution_count": 5,
   "id": "9b04bf4e",
   "metadata": {},
   "outputs": [
    {
     "name": "stdout",
     "output_type": "stream",
     "text": [
      "0.131876\n",
      "0.024389833\n"
     ]
    }
   ],
   "source": [
    "ET_2 = pd.read_csv(\"C:\\\\Users\\\\marya\\\\Downloads\\\\ZTF18abcfcoo_20220606\\\\detections_ZTF18abcfcoo.csv\")\n",
    "red_err_2, green_err_2 = find_err(ET_2)\n",
    "print(red_err_2)\n",
    "print(green_err_2)"
   ]
  },
  {
   "cell_type": "code",
   "execution_count": 6,
   "id": "468ee668",
   "metadata": {},
   "outputs": [],
   "source": [
    "ET_3 = pd.read_csv(\"C:\\\\Users\\\\marya\\\\Downloads\\\\ZTF20acigmel_20220606\\\\detections_ZTF20acigmel.csv\")\n",
    "red_err_3, green_err_3 = find_err(ET_3)"
   ]
  },
  {
   "cell_type": "code",
   "execution_count": 7,
   "id": "ca0d0ee2",
   "metadata": {},
   "outputs": [],
   "source": [
    "ET_4 = pd.read_csv(\"C:\\\\Users\\\\marya\\\\Downloads\\\\ZTF20abfhyil_20220606\\\\detections_ZTF20abfhyil.csv\")\n",
    "red_err_4, green_err_4 = find_err(ET_4)"
   ]
  },
  {
   "cell_type": "code",
   "execution_count": 25,
   "id": "bd7ba193",
   "metadata": {},
   "outputs": [
    {
     "data": {
      "text/plain": [
       "Text(0, 0.5, 'Peak Magnitude of Event')"
      ]
     },
     "execution_count": 25,
     "metadata": {},
     "output_type": "execute_result"
    },
    {
     "data": {
      "image/png": "[encoded data removed]",
      "text/plain": [
       "<Figure size 900x600 with 2 Axes>"
      ]
     },
     "metadata": {
      "needs_background": "light"
     },
     "output_type": "display_data"
    }
   ],
   "source": [
    "# red filter plot\n",
    "plt.figure(dpi=150)\n",
    "ax1 = plt.subplot(2,1,1)\n",
    "r_trans_peak_color = [-0.202, -0.239, -0.231, -0.171]\n",
    "r_trans_extinction = [0.115, 0.198, 0.182, 0.048]\n",
    "r_trans_extinction = np.array(r_trans_extinction)\n",
    "r_trans_peak_mag = [20.054, 14.202, 19.854, 19.368]\n",
    "r_trans_peak_mag = np.array(r_trans_peak_mag)\n",
    "r_trans_peak_mag = r_trans_peak_mag - r_trans_extinction\n",
    "r_error = [red_err_1, red_err_2, red_err_3, red_err_4]\n",
    "ax1.errorbar(r_trans_peak_color, r_trans_peak_mag, r_error, c='red', fmt='o', label='Transient', ms=1.5)\n",
    "\n",
    "r_cv_peak_color = [-0.242, -0.387, -0.225, -0.254, -0.243, -0.265, -0.169, -0.2, -0.254, -0.345]\n",
    "r_cv_extinction = [0.206, 0.531, 0.167, 0.234, 0.208, 0.259, 0.044, 0.111, 0.233, 0.437]\n",
    "r_cv_extinction = np.array(r_cv_extinction)\n",
    "r_cv_peak_mag = [18.998, 18.327, 18.143, 15.975, 16.780, 18.230, 16.463, 16.154, 14.815, 16.216]\n",
    "r_cv_peak_mag = np.array(r_cv_peak_mag)\n",
    "r_cv_peak_mag = r_cv_peak_mag - r_cv_extinction\n",
    "ax1.scatter([r_cv_peak_color], [r_cv_peak_mag], c='#99250C', marker='v', label='CV')\n",
    "\n",
    "ax1.legend()\n",
    "plt.subplot(2,1,1)\n",
    "plt.gca().invert_yaxis()\n",
    "\n",
    "# green filter plot\n",
    "ax2 = plt.subplot(2,1,2)\n",
    "g_trans_peak_color = [-0.202, -0.239, -0.231, -0.171]\n",
    "g_trans_extinction = [0.167, 0.287, 0.263, 0.069]\n",
    "g_trans_extinction = np.array(g_trans_extinction)\n",
    "g_trans_peak_mag = [19.711, 18.204, 19.558, 18.915]\n",
    "g_trans_peak_mag = np.array(g_trans_peak_mag)\n",
    "g_trans_peak_mag = g_trans_peak_mag - g_trans_extinction\n",
    "g_error = [green_err_1, green_err_2, green_err_3, green_err_4]\n",
    "plt.subplot(2,1,2)\n",
    "plt.errorbar(g_trans_peak_color, g_trans_peak_mag, g_error, c='#1DE71D', fmt='o', label='Transient', ms=1.5)\n",
    "\n",
    "g_cv_peak_color = [-0.242, -0.387, -0.225, -0.254, -0.243, -0.265, -0.169, -0.2, -0.254, -0.345]\n",
    "g_cv_extinction = [0.298, 0.768, 0.242, 0.338, 0.301, 0.374, 0.063, 0.161, 0.337, 0.632]\n",
    "g_cv_extinction = np.array(g_cv_extinction)\n",
    "g_cv_peak_mag = [18.530, 18.184, 17.935, 15.190, 16.698, 18.417, 16.182, 16.385, 14.540, 16.760]\n",
    "g_cv_peak_mag = np.array(g_cv_peak_mag)\n",
    "g_cv_peak_mag = g_cv_peak_mag - g_cv_extinction\n",
    "plt.scatter([g_cv_peak_color], [g_cv_peak_mag], c='#146A14', marker='v', label='CV')\n",
    "ax2.legend()\n",
    "\n",
    "# formatting\n",
    "ax1.get_shared_x_axes().join(ax1,ax2)\n",
    "ax1.get_shared_y_axes().join(ax1,ax2)\n",
    "\n",
    "# adding text\n",
    "ax1.text(-0.199, 20.1, '18abv')\n",
    "ax1.text(-0.236, 14.25, '18abc')\n",
    "ax1.text(-0.228, 19.672, '20aci')\n",
    "ax1.text(-0.168, 19.32, '20abf')\n",
    "\n",
    "ax2.text(-0.199, 19.7, '18abv')\n",
    "ax2.text(-0.236, 18.5, '18abc')\n",
    "ax2.text(-0.228, 19.5, '20aci')\n",
    "ax2.text(-0.168, 18.846, '20abf')\n",
    "\n",
    "plt.xlabel(\"Peak Color of Event\")\n",
    "plt.ylabel(\"Peak Magnitude of Event\")"
   ]
  },
  {
   "cell_type": "code",
   "execution_count": null,
   "id": "cb1d65c3",
   "metadata": {},
   "outputs": [],
   "source": []
  }
 ],
 "metadata": {
  "kernelspec": {
   "display_name": "Python 3 (ipykernel)",
   "language": "python",
   "name": "python3"
  },
  "language_info": {
   "codemirror_mode": {
    "name": "ipython",
    "version": 3
   },
   "file_extension": ".py",
   "mimetype": "text/x-python",
   "name": "python",
   "nbconvert_exporter": "python",
   "pygments_lexer": "ipython3",
   "version": "3.9.12"
  }
 },
 "nbformat": 4,
 "nbformat_minor": 5
}
